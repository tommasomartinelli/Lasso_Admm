{
 "cells": [
  {
   "cell_type": "code",
   "execution_count": 1,
   "metadata": {},
   "outputs": [],
   "source": [
    "import numpy as np\n",
    "import pandas as pd\n",
    "import matplotlib.pyplot as plt\n",
    "import time\n",
    "from sklearn.preprocessing import MinMaxScaler, StandardScaler\n",
    "from sklearn.model_selection import train_test_split\n",
    "from scipy.optimize import minimize\n",
    "import cvxpy as cp\n",
    "from sklearn.metrics import mean_squared_error"
   ]
  },
  {
   "cell_type": "code",
   "execution_count": 2,
   "metadata": {},
   "outputs": [],
   "source": [
    "class LassoReg:\n",
    "    def __init__(self, step_size, max_iterations, l1_penalty, tolerance):\n",
    "        self.step_size = step_size\n",
    "        self.max_iterations = max_iterations\n",
    "        self.l1_penalty = l1_penalty\n",
    "        self.tolerance = tolerance\n",
    "        self.m = None\n",
    "        self.n = None\n",
    "        self.W = None\n",
    "        self.X = None\n",
    "        self.Y = None\n",
    "        self.J = []  # Initialize J as an empty list\n",
    "        self.iterations = None\n",
    "\n",
    "    def fit(self, X, Y, algo, agents=None):\n",
    "        self.m, self.n = X.shape\n",
    "        self.W = np.zeros(self.n)\n",
    "        self.X = X\n",
    "        self.Y = Y\n",
    "\n",
    "        if algo == \"gd\":\n",
    "            self.gradient_descent()\n",
    "        elif algo == \"admm\":\n",
    "            self.admm_fit()\n",
    "        elif algo == \"distributed_admm\":\n",
    "            self.distributed_admm(agents)\n",
    "        else:\n",
    "            raise ValueError(\"Invalid algorithm\")\n",
    "\n",
    "\n",
    "    def gradient_descent(self):\n",
    "            for i in range(1, self.max_iterations + 1):\n",
    "                Y_predict = self.predict(self.X).flatten()\n",
    "\n",
    "                soft_term = self.soft_threshold(self.W, self.l1_penalty)\n",
    "                dW = (-2 * self.X.T @ (self.Y - Y_predict) + soft_term) / self.m\n",
    "                new_W = self.W - self.step_size * dW\n",
    "\n",
    "                if np.mean(np.abs(new_W - self.W)) < self.tolerance:\n",
    "                    break\n",
    "\n",
    "                self.J.append((np.mean(np.abs(new_W - self.W)),))\n",
    "                self.W = new_W\n",
    "                self.iterations = i\n",
    "\n",
    "\n",
    "    def admm_fit(self):\n",
    "        rho = self.step_size\n",
    "        z = np.zeros(self.n)\n",
    "        u = np.zeros(self.n)\n",
    "        I = np.eye(self.n)\n",
    "\n",
    "        abs_tol = self.tolerance\n",
    "        rel_tol = abs_tol * 100\n",
    "\n",
    "        for i in range(1, self.max_iterations + 1):\n",
    "            last_z = z\n",
    "\n",
    "            self.W = np.linalg.solve(self.X.T @ self.X + rho * I, self.X.T @ self.Y + rho * (z - u))\n",
    "            z = self.soft_threshold(self.W + u, self.l1_penalty / rho)\n",
    "            u = u + self.W - z\n",
    "\n",
    "            r_norm = np.linalg.norm(self.W - z)  # primary residual\n",
    "            s_norm = np.linalg.norm(-rho * (z - last_z))  # dual residual\n",
    "            tol_prim = np.sqrt(self.n) * abs_tol + rel_tol * max(np.linalg.norm(self.W), np.linalg.norm(-z))\n",
    "            tol_dual = np.sqrt(self.n) * abs_tol + rel_tol * np.linalg.norm(rho * u)\n",
    "\n",
    "            self.iterations = i\n",
    "            self.J.append((r_norm, s_norm, tol_prim, tol_dual))\n",
    "\n",
    "            if r_norm < tol_prim and s_norm < tol_dual:\n",
    "                break\n",
    "\n",
    "        self.W = self.W.reshape(1, -1)\n",
    "\n",
    "\n",
    "    def distributed_admm(self, agents):\n",
    "        rho = self.step_size\n",
    "        z = np.zeros(self.n)\n",
    "        I = np.eye(self.n)\n",
    "\n",
    "        abs_tol = self.tolerance\n",
    "        rel_tol = abs_tol * 100\n",
    "        converged = False\n",
    "\n",
    "        r, c = self.X.shape\n",
    "        rows_per_agent = r // agents\n",
    "        total_rows_used = rows_per_agent * agents\n",
    "\n",
    "        print(\"Original X shape:\", self.X.shape)\n",
    "        print(\"Total rows used:\", total_rows_used)\n",
    "\n",
    "        splitted_X = self.X[:total_rows_used, :].reshape((rows_per_agent, agents, c))\n",
    "        splitted_Y = np.reshape(self.Y[:total_rows_used], (rows_per_agent, agents))\n",
    "        self.W = np.zeros((agents, c))\n",
    "        u = np.zeros((agents, c))\n",
    "\n",
    "        for i in range(1, self.max_iterations + 1):\n",
    "            last_z = z\n",
    "            for j in range(agents):\n",
    "                self.W[j, :] = np.linalg.solve(splitted_X[:, j, :].T @ splitted_X[:, j, :] + (rho / 2) * I, splitted_X[:, j, :].T @ splitted_Y[:, j] + (rho / 2) * (z - u[j, :]))\n",
    "            \n",
    "            # Fusion center aggregates information from agents\n",
    "            global_W = np.mean(self.W, axis=0)\n",
    "            global_u = np.mean(u, axis=0)\n",
    "\n",
    "            # Fusion center updates z based on aggregated information\n",
    "            z = self.soft_threshold(global_W + global_u, self.l1_penalty / (rho * agents))\n",
    "\n",
    "            # Distribute updated information to agents\n",
    "            for j in range(agents):\n",
    "                u[j, :] = u[j, :] + (self.W[j, :] - z)\n",
    "                \n",
    "            global_u = np.mean(u, axis=0)    \n",
    "\n",
    "            r_norm = np.linalg.norm(global_W - z)  # primary residual\n",
    "            s_norm = np.linalg.norm(-rho * (z - last_z))  # dual residual\n",
    "            tol_prim = np.sqrt(self.n) * abs_tol + rel_tol * max(np.linalg.norm(global_W), np.linalg.norm(-z))\n",
    "            tol_dual = np.sqrt(self.n) * abs_tol + rel_tol * np.linalg.norm(rho * global_u)\n",
    "\n",
    "            self.iterations = i\n",
    "            self.J.append((r_norm, s_norm, tol_prim, tol_dual))\n",
    "\n",
    "            if r_norm < tol_prim and s_norm < tol_dual:\n",
    "                converged = True\n",
    "                break\n",
    "\n",
    "        self.W = global_W.reshape(1, -1)\n",
    "\n",
    "    def predict(self, X):\n",
    "        return X @ self.W.T.flatten()\n",
    "\n",
    "    def loss_function(self, Y, Y_predict, W):\n",
    "        return 0.5 * np.sum((Y - Y_predict) ** 2) + self.l1_penalty * np.linalg.norm(W, 1)\n",
    "\n",
    "    def soft_threshold(self, w, th):\n",
    "        return np.maximum(0, w - th) - np.maximum(0, -w - th)\n",
    "\n",
    "    def mean_squared_error(self, Y_true, Y_predicted):\n",
    "        return np.mean((Y_true - Y_predicted) ** 2)  \n"
   ]
  },
  {
   "cell_type": "code",
   "execution_count": 3,
   "metadata": {},
   "outputs": [],
   "source": [
    "def plot_predict(label, Y_test, Y_predicted):\n",
    "    plt.figure()\n",
    "    plt.title(label)\n",
    "    plt.scatter(Y_test, Y_predicted)\n",
    "    plt.plot(Y_test, Y_test, '--')\n",
    "    plt.xlabel('Actual label')\n",
    "    plt.ylabel('Predicted label')\n",
    "    plt.show()"
   ]
  },
  {
   "cell_type": "code",
   "execution_count": 4,
   "metadata": {},
   "outputs": [],
   "source": [
    "def plot_loss(lasso, label):\n",
    "    if label == \"Loss GD\":\n",
    "        plt.figure()\n",
    "        plt.title(label)\n",
    "        plt.plot(lasso.J)\n",
    "        plt.plot(np.full_like(lasso.J, lasso.tolerance), \"--\")\n",
    "        plt.xlabel('Iterations')\n",
    "        plt.ylabel('Loss')\n",
    "        plt.show()\n",
    "    else:\n",
    "        J_arr = np.array(lasso.J)\n",
    "        plt.figure()\n",
    "        plt.subplot(2, 1, 1)\n",
    "        plt.title(label)\n",
    "        plt.plot(J_arr[:, 0])\n",
    "        plt.plot(J_arr[:, 2], \"--\")\n",
    "        plt.xlabel('Iterations')\n",
    "        plt.ylabel('Primary residual')\n",
    "\n",
    "        plt.subplot(2, 1, 2)\n",
    "        plt.plot(J_arr[:, 1])\n",
    "        plt.plot(J_arr[:, 3], \"--\")\n",
    "        plt.xlabel('Iterations')\n",
    "        plt.ylabel('Dual residual')\n",
    "\n",
    "        plt.show()"
   ]
  },
  {
   "cell_type": "code",
   "execution_count": null,
   "metadata": {},
   "outputs": [],
   "source": [
    "def plot_objective(lasso, label):\n",
    "    plt.figure()\n",
    "    plt.title(label)\n",
    "    plt.plot([lasso.loss_function(lasso.Y, lasso.predict(lasso.X), lasso.W) for lasso.W in lasso.J])\n",
    "    plt.xlabel('Iterations')\n",
    "    plt.ylabel('Objective Function Value')\n",
    "    plt.show()"
   ]
  },
  {
   "cell_type": "code",
   "execution_count": null,
   "metadata": {},
   "outputs": [],
   "source": [
    "def plot_admm_convergence(lasso, label):\n",
    "    J_arr = np.array(lasso.J)\n",
    "    plt.figure()\n",
    "    plt.subplot(2, 1, 1)\n",
    "    plt.title(label)\n",
    "    plt.plot(J_arr[:, 0], label='Primary Residual')\n",
    "    plt.plot(J_arr[:, 2], \"--\", label='Tolerance')\n",
    "    plt.xlabel('Iterations')\n",
    "    plt.ylabel('Primary Residual')\n",
    "    plt.legend()\n",
    "\n",
    "    plt.subplot(2, 1, 2)\n",
    "    plt.plot(J_arr[:, 1], label='Dual Residual')\n",
    "    plt.plot(J_arr[:, 3], \"--\", label='Tolerance')\n",
    "    plt.xlabel('Iterations')\n",
    "    plt.ylabel('Dual Residual')\n",
    "    plt.legend()\n",
    "\n",
    "    plt.show()"
   ]
  },
  {
   "cell_type": "code",
   "execution_count": null,
   "metadata": {},
   "outputs": [],
   "source": [
    "def plot_weight_changes(lasso, label):\n",
    "    J_arr = np.array(lasso.J)\n",
    "    plt.figure()\n",
    "    for i in range(lasso.n):\n",
    "        plt.plot(np.diff(J_arr[:, i]), label=f'Weight {i}')\n",
    "    plt.title(label)\n",
    "    plt.xlabel('Iterations')\n",
    "    plt.ylabel('Change in Weights')\n",
    "    plt.legend()\n",
    "    plt.show()"
   ]
  },
  {
   "cell_type": "code",
   "execution_count": 5,
   "metadata": {},
   "outputs": [],
   "source": [
    "dataset = pd.read_csv('cleaned_data.csv')"
   ]
  },
  {
   "cell_type": "code",
   "execution_count": 6,
   "metadata": {},
   "outputs": [
    {
     "data": {
      "text/plain": [
       "(21613, 26)"
      ]
     },
     "execution_count": 6,
     "metadata": {},
     "output_type": "execute_result"
    }
   ],
   "source": [
    "dataset.shape"
   ]
  },
  {
   "cell_type": "code",
   "execution_count": 7,
   "metadata": {},
   "outputs": [],
   "source": [
    "X = dataset.drop(columns=['price'])  \n",
    "Y = dataset['price']"
   ]
  },
  {
   "cell_type": "code",
   "execution_count": 26,
   "metadata": {},
   "outputs": [],
   "source": [
    "X_train, X_test, Y_train, Y_test = train_test_split(X, Y, test_size=0.2, random_state=0)"
   ]
  },
  {
   "cell_type": "code",
   "execution_count": 27,
   "metadata": {},
   "outputs": [],
   "source": [
    "scaler = MinMaxScaler()\n",
    "X_train = scaler.fit_transform(X_train)\n",
    "X_test = scaler.transform(X_test)"
   ]
  },
  {
   "cell_type": "code",
   "execution_count": 28,
   "metadata": {},
   "outputs": [],
   "source": [
    "# add a column of ones to X_train and X_test for the bias term\n",
    "X_train = np.column_stack([np.ones(X_train.shape[0]), X_train])\n",
    "X_test = np.column_stack([np.ones(X_test.shape[0]), X_test])"
   ]
  },
  {
   "cell_type": "code",
   "execution_count": 29,
   "metadata": {},
   "outputs": [],
   "source": [
    "iterations = 200000\n",
    "step_size = 0.0001\n",
    "l1_penalty = 1\n",
    "tolerance = 1e-2\n",
    "agents = 3"
   ]
  },
  {
   "cell_type": "markdown",
   "metadata": {},
   "source": [
    "## Gradient Descent"
   ]
  },
  {
   "cell_type": "code",
   "execution_count": 30,
   "metadata": {},
   "outputs": [
    {
     "name": "stdout",
     "output_type": "stream",
     "text": [
      "GD\n"
     ]
    }
   ],
   "source": [
    "start_time = time.time()\n",
    "print(\"GD\")\n",
    "lasso = LassoReg(step_size, iterations, l1_penalty, tolerance)\n",
    "lasso.fit(X_train, Y_train, \"gd\")\n",
    "print(lasso.iterations)\n",
    "Y_predicted = lasso.predict(X_test)\n",
    "print(np.corrcoef(Y_test, Y_predicted)[0, 1] ** 2)  # R2\n",
    "end_time = time.time()\n",
    "print(\"Time Gradient Descent:\", end_time - start_time)"
   ]
  },
  {
   "cell_type": "code",
   "execution_count": 24,
   "metadata": {},
   "outputs": [
    {
     "data": {
      "image/png": "[encoded data removed]",
      "text/plain": [
       "<Figure size 640x480 with 1 Axes>"
      ]
     },
     "metadata": {},
     "output_type": "display_data"
    },
    {
     "data": {
      "image/png": "[encoded data removed]",
      "text/plain": [
       "<Figure size 640x480 with 1 Axes>"
      ]
     },
     "metadata": {},
     "output_type": "display_data"
    }
   ],
   "source": [
    "plot_predict(\"Lasso GD\", Y_test, Y_predicted)\n",
    "plot_loss(lasso, \"Loss GD\")"
   ]
  },
  {
   "cell_type": "code",
   "execution_count": 25,
   "metadata": {},
   "outputs": [
    {
     "name": "stdout",
     "output_type": "stream",
     "text": [
      "Coefficients: [-275598.58037613  364879.86774731  814818.69820414   37721.15396033\n",
      "   89458.37545137  574555.44993326  234183.6237819  -136198.18724099\n",
      "  435217.08851628  976890.94984571  391514.99928368 -370396.00266557\n",
      "  251370.57094858 -284282.69622339  456250.07941825  -21218.93556222\n",
      "       0.          -18099.41026074  -29207.12317003  -86935.46082899\n",
      "  -74878.60016631  -37255.65589266  -27068.96624953   92371.72247459\n",
      "   12813.46235918]\n"
     ]
    }
   ],
   "source": [
    "print(\"Coefficients:\", lasso.W)"
   ]
  },
  {
   "cell_type": "code",
   "execution_count": null,
   "metadata": {},
   "outputs": [],
   "source": [
    "mean_squared_error(Y_test, Y_predicted)"
   ]
  },
  {
   "cell_type": "code",
   "execution_count": null,
   "metadata": {},
   "outputs": [],
   "source": [
    "#normalize the labels and predicted labels\n",
    "Y_test_norm = scaler.fit_transform(Y_test.values.reshape(-1, 1)).flatten()\n",
    "Y_predicted = scaler.fit_transform(Y_predicted.reshape(-1, 1)).flatten()\n",
    "\n",
    "mean_squared_error(Y_test_norm, Y_predicted)\n"
   ]
  },
  {
   "cell_type": "markdown",
   "metadata": {},
   "source": [
    "# ADMM"
   ]
  },
  {
   "cell_type": "code",
   "execution_count": null,
   "metadata": {},
   "outputs": [],
   "source": [
    "start_time = time.time()\n",
    "print(\"ADMM\")\n",
    "lasso_admm = LassoReg(step_size, iterations, l1_penalty, tolerance)\n",
    "lasso_admm.fit(X_train, Y_train, \"admm\")\n",
    "print(lasso_admm.iterations)\n",
    "Y_predicted_admm = lasso_admm.predict(X_test)\n",
    "\n",
    "if Y_test.shape == Y_predicted_admm.shape:\n",
    "    r2_admm = np.corrcoef(Y_test, Y_predicted_admm)[0, 1] ** 2\n",
    "    print(r2_admm)\n",
    "else:\n",
    "    print(\"Dimensions of Y_test and Y_predicted_admm do not match.\")\n",
    "end_time = time.time()\n",
    "print(\"Time ADMM:\", end_time - start_time)"
   ]
  },
  {
   "cell_type": "code",
   "execution_count": null,
   "metadata": {},
   "outputs": [],
   "source": [
    "plot_predict(\"Lasso ADMM\", Y_test, Y_predicted_admm)\n",
    "plot_loss(lasso_admm, \"Convergence ADMM\")"
   ]
  },
  {
   "cell_type": "code",
   "execution_count": null,
   "metadata": {},
   "outputs": [],
   "source": [
    "Y_predicted_admm = scaler.fit_transform(Y_predicted_admm.reshape(-1, 1)).flatten()\n",
    "\n",
    "mean_squared_error(Y_test_norm, Y_predicted_admm)"
   ]
  },
  {
   "cell_type": "markdown",
   "metadata": {},
   "source": [
    "## ADMM splitted by examples"
   ]
  },
  {
   "cell_type": "code",
   "execution_count": null,
   "metadata": {},
   "outputs": [],
   "source": [
    "start_time = time.time()\n",
    "print(\"Distributed ADMM\")\n",
    "lasso_dist = LassoReg(step_size, iterations, l1_penalty, tolerance)\n",
    "lasso_dist.fit(X_train, Y_train, \"distributed_admm\", agents)\n",
    "print(lasso_dist.iterations)\n",
    "Y_predicted_dist = lasso_dist.predict(X_test)\n",
    "\n",
    "\n",
    "if Y_test.shape == Y_predicted_dist.shape:\n",
    "    r2_dist = np.corrcoef(Y_test, Y_predicted_dist)[0, 1] ** 2\n",
    "    print(r2_dist)\n",
    "else:\n",
    "    print(\"Dimensions of Y_test and Y_predicted_dist do not match.\")\n",
    "    # Add additional dimension information if needed\n",
    "    print(\"Dimension of Y_test:\", Y_test.shape)\n",
    "    print(\"Dimension of Y_predicted_dist:\", Y_predicted_dist.shape)\n",
    "end_time = time.time()\n",
    "print(\"Time Distributed ADMM:\", end_time - start_time)"
   ]
  },
  {
   "cell_type": "code",
   "execution_count": null,
   "metadata": {},
   "outputs": [],
   "source": [
    "plot_predict(\"Lasso Distributed-ADMM\", Y_test, Y_predicted_dist)\n",
    "plot_loss(lasso_dist, \"Convergence Distributed-ADMM\")"
   ]
  },
  {
   "cell_type": "code",
   "execution_count": null,
   "metadata": {},
   "outputs": [],
   "source": [
    "Y_predicted_dist = scaler.fit_transform(Y_predicted_dist.reshape(-1, 1)).flatten()\n",
    "\n",
    "mean_squared_error(Y_test_norm, Y_predicted_dist)"
   ]
  },
  {
   "cell_type": "markdown",
   "metadata": {},
   "source": [
    "## Dati sintetici\n"
   ]
  },
  {
   "cell_type": "code",
   "execution_count": null,
   "metadata": {},
   "outputs": [],
   "source": [
    "# generation of synthetic data\n",
    "np.random.seed(42)\n",
    "n_samples = 10000\n",
    "n_features = 15\n",
    "\n",
    "true_coef = np.random.randint(-5, 5, n_features)\n",
    "\n",
    "X = np.random.randn(n_samples, n_features)"
   ]
  },
  {
   "cell_type": "code",
   "execution_count": null,
   "metadata": {},
   "outputs": [],
   "source": [
    "correlation_matrix = np.random.uniform(0.5, 0.5, size=(n_features, n_features))\n",
    "X = X @ correlation_matrix"
   ]
  },
  {
   "cell_type": "code",
   "execution_count": null,
   "metadata": {},
   "outputs": [],
   "source": [
    "noise = np.random.normal(0, 1, n_samples)"
   ]
  },
  {
   "cell_type": "code",
   "execution_count": null,
   "metadata": {},
   "outputs": [],
   "source": [
    "Y = X @ true_coef + noise"
   ]
  },
  {
   "cell_type": "code",
   "execution_count": null,
   "metadata": {},
   "outputs": [],
   "source": [
    "# split the data into training and testing sets\n",
    "X_train_syn, X_test_syn, Y_train_syn, Y_test_syn = train_test_split(X, Y, test_size=0.2, random_state=0)"
   ]
  },
  {
   "cell_type": "code",
   "execution_count": null,
   "metadata": {},
   "outputs": [],
   "source": [
    "#Lasso parameters\n",
    "iterations = 200000\n",
    "step_size = 0.01\n",
    "l1_penalty = 1\n",
    "tolerance = 1e-4\n",
    "agents = 3"
   ]
  },
  {
   "cell_type": "code",
   "execution_count": null,
   "metadata": {},
   "outputs": [],
   "source": [
    "#Lasso Regression using Gradient Descent\n",
    "start_time = time.time()\n",
    "print(\"GD\")\n",
    "lasso = LassoReg(step_size, iterations, l1_penalty, tolerance)\n",
    "lasso.fit(X_train_syn, Y_train_syn, \"gd\")\n",
    "print(lasso.iterations)\n",
    "Y_predicted = lasso.predict(X_test_syn)\n",
    "print(np.corrcoef(Y_test_syn, Y_predicted)[0, 1] ** 2)  # R2\n",
    "end_time = time.time()\n",
    "print(\"Time Gradient Descent:\", end_time - start_time)"
   ]
  },
  {
   "cell_type": "code",
   "execution_count": null,
   "metadata": {},
   "outputs": [],
   "source": [
    "plot_predict(\"Lasso GD\", Y_test_syn, Y_predicted)\n",
    "plot_loss(lasso, \"Loss GD\")\n",
    "\n",
    "mean_squared_error(Y_test_syn, Y_predicted)\n",
    "print(\"MSE Gradient descent:\", mean_squared_error(Y_test_syn, Y_predicted))"
   ]
  },
  {
   "cell_type": "code",
   "execution_count": null,
   "metadata": {},
   "outputs": [],
   "source": [
    "#Lasso Regression using ADMM\n",
    "start_time = time.time()\n",
    "print(\"ADMM\")\n",
    "lasso_admm = LassoReg(step_size, iterations, l1_penalty, tolerance)\n",
    "lasso_admm.fit(X_train_syn, Y_train_syn, \"admm\")\n",
    "print(lasso_admm.iterations)\n",
    "Y_predicted_admm = lasso_admm.predict(X_test_syn)\n",
    "print(np.corrcoef(Y_test_syn, Y_predicted_admm)[0, 1] ** 2)  # R2\n",
    "end_time = time.time()\n",
    "print(\"Time ADMM:\", end_time - start_time)"
   ]
  },
  {
   "cell_type": "code",
   "execution_count": null,
   "metadata": {},
   "outputs": [],
   "source": [
    "plot_predict(\"Lasso ADMM\", Y_test_syn, Y_predicted_admm)\n",
    "plot_loss(lasso_admm, \"Convergence ADMM\")\n",
    "\n",
    "mean_squared_error(Y_test_syn, Y_predicted_admm)\n",
    "print(\"MSE ADMM:\", mean_squared_error(Y_test_syn, Y_predicted_admm))"
   ]
  },
  {
   "cell_type": "code",
   "execution_count": null,
   "metadata": {},
   "outputs": [],
   "source": [
    "#Lasso Regression using Distributed ADMM\n",
    "start_time = time.time()\n",
    "print(\"Distributed ADMM\")\n",
    "lasso_dist = LassoReg(step_size, iterations, l1_penalty, tolerance)\n",
    "lasso_dist.fit(X_train_syn, Y_train_syn, \"distributed_admm\", agents)\n",
    "print(lasso_dist.iterations)\n",
    "Y_predicted_dist = lasso_dist.predict(X_test_syn)\n",
    "print(np.corrcoef(Y_test_syn, Y_predicted_dist)[0, 1] ** 2)  # R2\n",
    "end_time = time.time()\n",
    "print(\"Time Distributed ADMM:\", end_time - start_time)"
   ]
  },
  {
   "cell_type": "code",
   "execution_count": null,
   "metadata": {},
   "outputs": [],
   "source": [
    "plot_predict(\"Lasso Distributed-ADMM\", Y_test_syn, Y_predicted_dist)\n",
    "plot_loss(lasso_dist, \"Convergence Distributed-ADMM\")\n",
    "\n",
    "mean_squared_error(Y_test_syn, Y_predicted_dist)\n",
    "print(\"MSE Distributed ADMM:\", mean_squared_error(Y_test_syn, Y_predicted_dist))"
   ]
  },
  {
   "cell_type": "markdown",
   "metadata": {},
   "source": [
    "# Altra versione"
   ]
  },
  {
   "cell_type": "code",
   "execution_count": null,
   "metadata": {},
   "outputs": [],
   "source": [
    "np.random.seed(42)\n",
    "n_samples, n_features = 1000, 20\n",
    "\n",
    "# Genera una matrice casuale di features\n",
    "X = np.random.randn(n_samples, n_features)\n",
    "\n",
    "# Genera i coefficienti del modello sparsi\n",
    "true_coefficients = np.zeros(n_features)\n",
    "true_coefficients[3] = 3.0\n",
    "true_coefficients[8] = -2.0"
   ]
  },
  {
   "cell_type": "code",
   "execution_count": null,
   "metadata": {},
   "outputs": [],
   "source": [
    "y = X.dot(true_coefficients) + 0.5 * np.random.randn(n_samples)"
   ]
  },
  {
   "cell_type": "code",
   "execution_count": null,
   "metadata": {},
   "outputs": [],
   "source": [
    "plt.scatter(X[:, 3], y, label='Feature 3')\n",
    "plt.scatter(X[:, 8], y, label='Feature 8')\n",
    "plt.xlabel('Feature Value')\n",
    "plt.ylabel('Target Value')\n",
    "plt.legend()\n",
    "plt.show()"
   ]
  },
  {
   "cell_type": "code",
   "execution_count": null,
   "metadata": {},
   "outputs": [],
   "source": [
    "X_train_syn2, X_test_syn2, Y_train_syn2, Y_test_syn2 = train_test_split(X, y, test_size=0.2, random_state=0)"
   ]
  },
  {
   "cell_type": "code",
   "execution_count": null,
   "metadata": {},
   "outputs": [],
   "source": [
    "#normalize the data\n",
    "scaler = MinMaxScaler()\n",
    "X_train_syn2 = scaler.fit_transform(X_train_syn2)\n",
    "X_test_syn2 = scaler.transform(X_test_syn2)"
   ]
  },
  {
   "cell_type": "code",
   "execution_count": null,
   "metadata": {},
   "outputs": [],
   "source": [
    "#Lasso parameters\n",
    "iterations = 200000\n",
    "step_size = 0.01\n",
    "l1_penalty = 1\n",
    "tolerance = 1e-4\n",
    "agents = 3\n"
   ]
  },
  {
   "cell_type": "code",
   "execution_count": null,
   "metadata": {},
   "outputs": [],
   "source": [
    "# Lasso Regression using Gradient Descent\n",
    "start_time = time.time()\n",
    "print(\"GD\")\n",
    "lasso = LassoReg(step_size, iterations, l1_penalty, tolerance)\n",
    "lasso.fit(X_train_syn2, Y_train_syn2, \"gd\")\n",
    "print(lasso.iterations)\n",
    "Y_predicted = lasso.predict(X_test_syn2)\n",
    "print(np.corrcoef(Y_test_syn2, Y_predicted)[0, 1] ** 2)  # R2\n",
    "end_time = time.time()\n",
    "print(\"Time Gradient Descent:\", end_time - start_time)"
   ]
  },
  {
   "cell_type": "code",
   "execution_count": null,
   "metadata": {},
   "outputs": [],
   "source": [
    "plot_predict(\"Lasso GD\", Y_test_syn2, Y_predicted)\n",
    "plot_loss(lasso, \"Loss GD\")"
   ]
  },
  {
   "cell_type": "code",
   "execution_count": null,
   "metadata": {},
   "outputs": [],
   "source": [
    "# Lasso Regression using ADMM\n",
    "start_time = time.time()\n",
    "print(\"ADMM\")\n",
    "lasso_admm = LassoReg(step_size, iterations, l1_penalty, tolerance)\n",
    "lasso_admm.fit(X_train_syn2, Y_train_syn2, \"admm\")\n",
    "print(lasso_admm.iterations)\n",
    "Y_predicted_admm = lasso_admm.predict(X_test_syn2)\n",
    "print(np.corrcoef(Y_test_syn2, Y_predicted_admm)[0, 1] ** 2)  # R2\n",
    "end_time = time.time()\n",
    "print(\"Time ADMM:\", end_time - start_time)"
   ]
  }
 ],
 "metadata": {
  "kernelspec": {
   "display_name": "Python 3",
   "language": "python",
   "name": "python3"
  },
  "language_info": {
   "codemirror_mode": {
    "name": "ipython",
    "version": 3
   },
   "file_extension": ".py",
   "mimetype": "text/x-python",
   "name": "python",
   "nbconvert_exporter": "python",
   "pygments_lexer": "ipython3",
   "version": "3.10.12"
  }
 },
 "nbformat": 4,
 "nbformat_minor": 2
}
